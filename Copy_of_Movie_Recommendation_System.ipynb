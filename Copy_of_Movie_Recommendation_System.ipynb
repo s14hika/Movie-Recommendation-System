{
  "nbformat": 4,
  "nbformat_minor": 0,
  "metadata": {
    "colab": {
      "provenance": [],
      "authorship_tag": "ABX9TyNmY83qwgNH137ghOybaWc0",
      "include_colab_link": true
    },
    "kernelspec": {
      "name": "python3",
      "display_name": "Python 3"
    },
    "language_info": {
      "name": "python"
    }
  },
  "cells": [
    {
      "cell_type": "markdown",
      "metadata": {
        "id": "view-in-github",
        "colab_type": "text"
      },
      "source": [
        "<a href=\"https://colab.research.google.com/github/s14hika/Movie-Recommendation-System/blob/main/Copy_of_Movie_Recommendation_System.ipynb\" target=\"_parent\"><img src=\"https://colab.research.google.com/assets/colab-badge.svg\" alt=\"Open In Colab\"/></a>"
      ]
    },
    {
      "cell_type": "code",
      "source": [
        "import pandas as pd\n",
        "import numpy as np\n",
        "from sklearn.metrics.pairwise import cosine_similarity\n",
        "\n",
        "# Step 1: Generate a larger Movies Dataset with actual movie names\n",
        "movie_titles = [\n",
        "    'The Shawshank Redemption', 'The Godfather', 'The Dark Knight', 'Schindler\\'s List',\n",
        "    'The Lord of the Rings: The Return of the King', 'Pulp Fiction', 'Forrest Gump', 'Fight Club',\n",
        "    'Inception', 'The Matrix', 'The Empire Strikes Back', 'The Lord of the Rings: The Fellowship of the Ring',\n",
        "    'Goodfellas', 'The Silence of the Lambs', 'Saving Private Ryan', 'Gladiator', 'The Green Mile',\n",
        "    'Interstellar', 'The Usual Suspects', 'The Lion King', 'The Departed', 'Braveheart', 'Titanic',\n",
        "    'The Prestige', 'The Dark Knight Rises', 'Schindler\\'s List', 'The Intouchables', 'The Social Network',\n",
        "    'Parasite', 'Spirited Away', 'The Avengers', 'Coco', 'Mad Max: Fury Road', 'Jojo Rabbit', 'La La Land',\n",
        "    'Get Out', 'Black Panther', 'Inside Out', 'Toy Story', 'Finding Nemo', 'Zootopia', 'Up', 'WALL-E',\n",
        "    'Harry Potter and the Sorcerer\\'s Stone', 'Jurassic Park', 'Star Wars: A New Hope', 'Back to the Future'\n",
        "]\n",
        "\n",
        "num_movies = len(movie_titles)  # Total number of unique movies\n",
        "num_genres = 5  # Number of unique genres\n",
        "genres = ['Action', 'Comedy', 'Drama', 'Horror', 'Romance', 'Sci-Fi', 'Thriller', 'Animation']\n",
        "\n",
        "# Create movies DataFrame\n",
        "movies_data = {\n",
        "    'movieId': np.arange(1, num_movies + 1),\n",
        "    'title': movie_titles,\n",
        "    'genres': np.random.choice(genres, size=num_movies)\n",
        "}\n",
        "\n",
        "movies_df = pd.DataFrame(movies_data)\n",
        "movies_df.to_csv('movies_large.csv', index=False)\n",
        "print(\"Large Movies dataset created successfully!\")"
      ],
      "metadata": {
        "colab": {
          "base_uri": "https://localhost:8080/"
        },
        "id": "H6IRmHP5rfuG",
        "outputId": "0d04e339-db30-40e0-e28c-2397a4212184"
      },
      "execution_count": null,
      "outputs": [
        {
          "output_type": "stream",
          "name": "stdout",
          "text": [
            "Large Movies dataset created successfully!\n"
          ]
        }
      ]
    },
    {
      "cell_type": "code",
      "source": [
        "# Step 2: Generate a larger Ratings Dataset\n",
        "num_users = 500  # Total number of users\n",
        "num_ratings = 10000  # Total ratings to generate\n",
        "\n",
        "ratings_data = {\n",
        "    'userId': np.random.randint(1, num_users + 1, size=num_ratings),\n",
        "    'movieId': np.random.randint(1, num_movies + 1, size=num_ratings),\n",
        "    'rating': np.random.uniform(1, 5, size=num_ratings).round(1),  # Ratings from 1 to 5\n",
        "    'timestamp': np.random.randint(1_500_000_000, 1_600_000_000, size=num_ratings)\n",
        "}\n",
        "\n",
        "ratings_df = pd.DataFrame(ratings_data)\n",
        "ratings_df.to_csv('ratings_large.csv', index=False)\n",
        "print(\"Large Ratings dataset created successfully!\")"
      ],
      "metadata": {
        "colab": {
          "base_uri": "https://localhost:8080/"
        },
        "id": "tTlSd_dYrf3h",
        "outputId": "73126c78-a057-42a3-e4dd-ecbab7a25975"
      },
      "execution_count": null,
      "outputs": [
        {
          "output_type": "stream",
          "name": "stdout",
          "text": [
            "Large Ratings dataset created successfully!\n"
          ]
        }
      ]
    },
    {
      "cell_type": "code",
      "source": [
        "# Step 3: Load the datasets\n",
        "movies_df = pd.read_csv('movies_large.csv')\n",
        "ratings_df = pd.read_csv('ratings_large.csv')"
      ],
      "metadata": {
        "id": "1OeCWIkArgAD"
      },
      "execution_count": null,
      "outputs": []
    },
    {
      "cell_type": "code",
      "source": [
        "# Step 4: Merge movies and ratings datasets\n",
        "movie_ratings_df = pd.merge(ratings_df, movies_df, on='movieId')"
      ],
      "metadata": {
        "id": "tyFWjz0-rgJp"
      },
      "execution_count": null,
      "outputs": []
    },
    {
      "cell_type": "code",
      "source": [
        "# Step 5: Create a user-movie ratings matrix\n",
        "user_movie_ratings = movie_ratings_df.pivot_table(index='userId', columns='title', values='rating')\n",
        "user_movie_ratings.fillna(0, inplace=True)"
      ],
      "metadata": {
        "id": "sXEQXoGGrgUS"
      },
      "execution_count": null,
      "outputs": []
    },
    {
      "cell_type": "code",
      "source": [
        "# Step 6: Compute cosine similarity between movies\n",
        "movie_similarity = cosine_similarity(user_movie_ratings.T)\n",
        "movie_similarity_df = pd.DataFrame(movie_similarity, index=user_movie_ratings.columns, columns=user_movie_ratings.columns)"
      ],
      "metadata": {
        "id": "2UtLJG-Lrgf_"
      },
      "execution_count": null,
      "outputs": []
    },
    {
      "cell_type": "code",
      "source": [
        "# Step 7: Movie Recommendation Function\n",
        "def recommend_movies(movie_name, num_recommendations=5):\n",
        "    if movie_name not in movie_similarity_df.index:\n",
        "        print(f\"Movie '{movie_name}' not found in the database.\")\n",
        "        return []\n",
        "\n",
        "    similar_movies = movie_similarity_df[movie_name].sort_values(ascending=False)\n",
        "    recommended_movies = similar_movies.index[1:num_recommendations + 1]\n",
        "    return recommended_movies"
      ],
      "metadata": {
        "id": "e3WdCypArgrk"
      },
      "execution_count": null,
      "outputs": []
    },
    {
      "cell_type": "code",
      "source": [
        "# Example: Recommend movies similar to a randomly selected movie\n",
        "sample_movie = movies_df.sample(n=1)['title'].values[0]\n",
        "recommended_movies = recommend_movies(sample_movie, 5)\n",
        "print(f\"\\nMovies similar to '{sample_movie}':\")\n",
        "print(recommended_movies)"
      ],
      "metadata": {
        "colab": {
          "base_uri": "https://localhost:8080/"
        },
        "id": "yjy04zcVrg5W",
        "outputId": "6af4a448-e390-4aaf-c721-fad4d3db4162"
      },
      "execution_count": null,
      "outputs": [
        {
          "output_type": "stream",
          "name": "stdout",
          "text": [
            "\n",
            "Movies similar to 'Braveheart':\n",
            "Index(['Schindler's List', 'Star Wars: A New Hope', 'Gladiator',\n",
            "       'The Shawshank Redemption', 'Zootopia'],\n",
            "      dtype='object', name='title')\n"
          ]
        }
      ]
    },
    {
      "cell_type": "code",
      "source": [
        "# Optional: Visualize top-rated movies\n",
        "average_ratings = movie_ratings_df.groupby('title')['rating'].mean().sort_values(ascending=False)\n",
        "print(\"\\nTop 5 Movies Based on Average Ratings:\")\n",
        "print(average_ratings.head(5))\n"
      ],
      "metadata": {
        "colab": {
          "base_uri": "https://localhost:8080/"
        },
        "id": "ByS6vNbarKP_",
        "outputId": "659958d9-8e5f-402e-d4c9-b305b712e14d"
      },
      "execution_count": null,
      "outputs": [
        {
          "output_type": "stream",
          "name": "stdout",
          "text": [
            "\n",
            "Top 5 Movies Based on Average Ratings:\n",
            "title\n",
            "Parasite           3.205641\n",
            "The Dark Knight    3.154545\n",
            "Up                 3.122680\n",
            "Zootopia           3.121514\n",
            "Braveheart         3.110680\n",
            "Name: rating, dtype: float64\n"
          ]
        }
      ]
    }
  ]
}